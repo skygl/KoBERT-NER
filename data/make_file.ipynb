{
 "cells": [
  {
   "cell_type": "code",
   "execution_count": 1,
   "metadata": {},
   "outputs": [],
   "source": [
    "import os"
   ]
  },
  {
   "cell_type": "code",
   "execution_count": 2,
   "metadata": {},
   "outputs": [
    {
     "name": "stdout",
     "output_type": "stream",
     "text": [
      "/home/ailab/Desktop/SA/KoBERT-NER/data\n"
     ]
    }
   ],
   "source": [
    "!pwd"
   ]
  },
  {
   "cell_type": "code",
   "execution_count": 7,
   "metadata": {},
   "outputs": [],
   "source": [
    "# Train File\n",
    "train_files = os.listdir('./train')"
   ]
  },
  {
   "cell_type": "code",
   "execution_count": 27,
   "metadata": {},
   "outputs": [],
   "source": [
    "with open('train.txt', 'w') as writer:\n",
    "    for file_name in train_files:\n",
    "        if file_name == '.DS_Store':\n",
    "            continue\n",
    "        file_dir = os.path.join('train',file_name)\n",
    "\n",
    "        with open(file_dir, 'r') as f:\n",
    "            \n",
    "            for line in f:\n",
    "                if line:\n",
    "                    writer.write(line)"
   ]
  },
  {
   "cell_type": "code",
   "execution_count": 28,
   "metadata": {},
   "outputs": [],
   "source": [
    "test_files = os.listdir('./test')"
   ]
  },
  {
   "cell_type": "code",
   "execution_count": 29,
   "metadata": {},
   "outputs": [],
   "source": [
    "with open('test.txt', 'w') as writer:\n",
    "    for file_name in test_files:\n",
    "        if file_name == '.DS_Store':\n",
    "            continue\n",
    "        file_dir = os.path.join('test',file_name)\n",
    "\n",
    "        with open(file_dir, 'r') as f:\n",
    "            \n",
    "            for line in f:\n",
    "                if line:\n",
    "                    writer.write(line)"
   ]
  },
  {
   "cell_type": "code",
   "execution_count": null,
   "metadata": {},
   "outputs": [],
   "source": []
  }
 ],
 "metadata": {
  "interpreter": {
   "hash": "f5f73377f5fb37deffd21d69fae85f117004b01a509876e6be413085d693c87b"
  },
  "kernelspec": {
   "display_name": "Python 3.9.12 ('pytorch')",
   "language": "python",
   "name": "python3"
  },
  "language_info": {
   "codemirror_mode": {
    "name": "ipython",
    "version": 3
   },
   "file_extension": ".py",
   "mimetype": "text/x-python",
   "name": "python",
   "nbconvert_exporter": "python",
   "pygments_lexer": "ipython3",
   "version": "3.9.12"
  },
  "orig_nbformat": 4
 },
 "nbformat": 4,
 "nbformat_minor": 2
}
